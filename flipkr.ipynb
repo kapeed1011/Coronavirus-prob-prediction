{
 "cells": [
  {
   "cell_type": "code",
   "execution_count": 1,
   "metadata": {},
   "outputs": [],
   "source": [
    "import pandas as pd"
   ]
  },
  {
   "cell_type": "code",
   "execution_count": 2,
   "metadata": {},
   "outputs": [],
   "source": [
    "df=pd.read_excel('Train_dataset.xlsx',index_col='people_ID')"
   ]
  },
  {
   "cell_type": "code",
   "execution_count": 3,
   "metadata": {},
   "outputs": [
    {
     "data": {
      "text/plain": [
       "(10714, 27)"
      ]
     },
     "execution_count": 3,
     "metadata": {},
     "output_type": "execute_result"
    }
   ],
   "source": [
    "df.shape"
   ]
  },
  {
   "cell_type": "code",
   "execution_count": 4,
   "metadata": {},
   "outputs": [
    {
     "name": "stdout",
     "output_type": "stream",
     "text": [
      "<class 'pandas.core.frame.DataFrame'>\n",
      "Int64Index: 10714 entries, 1 to 22695\n",
      "Data columns (total 27 columns):\n",
      "Region                    10714 non-null object\n",
      "Gender                    10714 non-null object\n",
      "Designation               10714 non-null object\n",
      "Name                      10694 non-null object\n",
      "Married                   10714 non-null object\n",
      "Children                  10403 non-null float64\n",
      "Occupation                9967 non-null object\n",
      "Mode_transport            10711 non-null object\n",
      "cases/1M                  10714 non-null int64\n",
      "Deaths/1M                 10714 non-null int64\n",
      "comorbidity               10488 non-null object\n",
      "Age                       10714 non-null int64\n",
      "Coma score                10714 non-null int64\n",
      "Pulmonary score           10714 non-null object\n",
      "cardiological pressure    10617 non-null object\n",
      "Diuresis                  9998 non-null float64\n",
      "Platelets                 9790 non-null float64\n",
      "HBB                       10698 non-null float64\n",
      "d-dimer                   9600 non-null float64\n",
      "Heart rate                9600 non-null float64\n",
      "HDL cholesterol           10679 non-null float64\n",
      "Charlson Index            10714 non-null int64\n",
      "Blood Glucose             10714 non-null int64\n",
      "Insurance                 9624 non-null float64\n",
      "salary                    10714 non-null int64\n",
      "FT/month                  9991 non-null float64\n",
      "Infect_Prob               10714 non-null float64\n",
      "dtypes: float64(10), int64(7), object(10)\n",
      "memory usage: 2.3+ MB\n"
     ]
    }
   ],
   "source": [
    "df.info()"
   ]
  },
  {
   "cell_type": "code",
   "execution_count": 5,
   "metadata": {},
   "outputs": [
    {
     "name": "stdout",
     "output_type": "stream",
     "text": [
      "<class 'pandas.core.frame.DataFrame'>\n",
      "Int64Index: 10714 entries, 1 to 22695\n",
      "Data columns (total 27 columns):\n",
      "Region                    10714 non-null object\n",
      "Gender                    10714 non-null object\n",
      "Designation               10714 non-null object\n",
      "Name                      10694 non-null object\n",
      "Married                   10714 non-null object\n",
      "Children                  10403 non-null float64\n",
      "Occupation                9967 non-null object\n",
      "Mode_transport            10711 non-null object\n",
      "cases/1M                  10714 non-null int64\n",
      "Deaths/1M                 10714 non-null int64\n",
      "comorbidity               10488 non-null object\n",
      "Age                       10714 non-null int64\n",
      "Coma score                10714 non-null int64\n",
      "Pulmonary score           10714 non-null object\n",
      "cardiological pressure    10617 non-null object\n",
      "Diuresis                  9998 non-null float64\n",
      "Platelets                 9790 non-null float64\n",
      "HBB                       10698 non-null float64\n",
      "d-dimer                   9600 non-null float64\n",
      "Heart rate                9600 non-null float64\n",
      "HDL cholesterol           10679 non-null float64\n",
      "Charlson Index            10714 non-null int64\n",
      "Blood Glucose             10714 non-null int64\n",
      "Insurance                 9624 non-null float64\n",
      "salary                    10714 non-null int64\n",
      "FT/month                  9991 non-null float64\n",
      "Infect_Prob               10714 non-null float64\n",
      "dtypes: float64(10), int64(7), object(10)\n",
      "memory usage: 2.3+ MB\n"
     ]
    }
   ],
   "source": [
    "df.info()"
   ]
  },
  {
   "cell_type": "code",
   "execution_count": 6,
   "metadata": {},
   "outputs": [
    {
     "data": {
      "text/plain": [
       "Region                       0\n",
       "Gender                       0\n",
       "Designation                  0\n",
       "Name                        20\n",
       "Married                      0\n",
       "Children                   311\n",
       "Occupation                 747\n",
       "Mode_transport               3\n",
       "cases/1M                     0\n",
       "Deaths/1M                    0\n",
       "comorbidity                226\n",
       "Age                          0\n",
       "Coma score                   0\n",
       "Pulmonary score              0\n",
       "cardiological pressure      97\n",
       "Diuresis                   716\n",
       "Platelets                  924\n",
       "HBB                         16\n",
       "d-dimer                   1114\n",
       "Heart rate                1114\n",
       "HDL cholesterol             35\n",
       "Charlson Index               0\n",
       "Blood Glucose                0\n",
       "Insurance                 1090\n",
       "salary                       0\n",
       "FT/month                   723\n",
       "Infect_Prob                  0\n",
       "dtype: int64"
      ]
     },
     "execution_count": 6,
     "metadata": {},
     "output_type": "execute_result"
    }
   ],
   "source": [
    "df.isnull().sum()"
   ]
  },
  {
   "cell_type": "code",
   "execution_count": 7,
   "metadata": {},
   "outputs": [],
   "source": [
    "import numpy as np\n",
    "\n",
    "import matplotlib.pyplot as plt\n",
    "import seaborn as sns\n",
    "# visulaisation\n",
    "from matplotlib.pyplot import xticks\n",
    "%matplotlib inline"
   ]
  },
  {
   "cell_type": "code",
   "execution_count": 8,
   "metadata": {},
   "outputs": [
    {
     "data": {
      "image/png": "[encoded data removed]",
      "text/plain": [
       "<Figure size 1152x720 with 2 Axes>"
      ]
     },
     "metadata": {
      "needs_background": "light"
     },
     "output_type": "display_data"
    }
   ],
   "source": [
    "# Let's check the correlation coefficients to see which variables are highly correlated\n",
    "\n",
    "plt.figure(figsize = (16, 10))\n",
    "sns.heatmap(df.corr(), annot = True, cmap=\"YlGnBu\")\n",
    "plt.savefig('corrplot')\n",
    "plt.show()"
   ]
  },
  {
   "cell_type": "code",
   "execution_count": 9,
   "metadata": {},
   "outputs": [
    {
     "data": {
      "text/plain": [
       "Children           0.226795\n",
       "cases/1M           0.172871\n",
       "Deaths/1M          0.174994\n",
       "Age               -0.331258\n",
       "Coma score         0.038400\n",
       "Diuresis           0.006887\n",
       "Platelets          0.066727\n",
       "HBB                0.019361\n",
       "d-dimer            0.021304\n",
       "Heart rate        -0.003647\n",
       "HDL cholesterol    0.013288\n",
       "Charlson Index    -0.011368\n",
       "Blood Glucose     -0.009654\n",
       "Insurance          0.009996\n",
       "salary            -0.024621\n",
       "FT/month          -0.001474\n",
       "Infect_Prob        1.000000\n",
       "Name: Infect_Prob, dtype: float64"
      ]
     },
     "execution_count": 9,
     "metadata": {},
     "output_type": "execute_result"
    }
   ],
   "source": [
    "df[df.columns[0:]].corr()['Infect_Prob'][:]"
   ]
  },
  {
   "cell_type": "code",
   "execution_count": 10,
   "metadata": {},
   "outputs": [],
   "source": [
    "cols=['Designation','Name','Insurance','salary','Region']"
   ]
  },
  {
   "cell_type": "code",
   "execution_count": 11,
   "metadata": {},
   "outputs": [],
   "source": [
    "df1=df.drop(df[cols],axis=1)"
   ]
  },
  {
   "cell_type": "code",
   "execution_count": 12,
   "metadata": {},
   "outputs": [],
   "source": [
    "df1['Children']=df1['Children'].fillna(0)"
   ]
  },
  {
   "cell_type": "code",
   "execution_count": 13,
   "metadata": {},
   "outputs": [],
   "source": [
    "df1.iat[2881,4]='Car'\n",
    "df1.iat[3588,4]='Public'\n",
    "df1.iat[8733,4]='Car'"
   ]
  },
  {
   "cell_type": "code",
   "execution_count": 14,
   "metadata": {},
   "outputs": [],
   "source": [
    "for column in ['Occupation', 'comorbidity', 'cardiological pressure', 'Diuresis', 'Platelets','HBB','d-dimer','Heart rate','HDL cholesterol','FT/month']:\n",
    "    df1[column].fillna(df1[column].mode()[0], inplace=True)"
   ]
  },
  {
   "cell_type": "code",
   "execution_count": 15,
   "metadata": {},
   "outputs": [
    {
     "data": {
      "text/plain": [
       "(10714, 22)"
      ]
     },
     "execution_count": 15,
     "metadata": {},
     "output_type": "execute_result"
    }
   ],
   "source": [
    "df1.shape"
   ]
  },
  {
   "cell_type": "code",
   "execution_count": 16,
   "metadata": {},
   "outputs": [],
   "source": [
    "df2=df1.drop('Infect_Prob',axis=1)"
   ]
  },
  {
   "cell_type": "code",
   "execution_count": 17,
   "metadata": {},
   "outputs": [],
   "source": [
    "df3=df1['Infect_Prob']"
   ]
  },
  {
   "cell_type": "code",
   "execution_count": 18,
   "metadata": {},
   "outputs": [],
   "source": [
    "df4=df3.values"
   ]
  },
  {
   "cell_type": "code",
   "execution_count": 19,
   "metadata": {},
   "outputs": [
    {
     "name": "stderr",
     "output_type": "stream",
     "text": [
      "C:\\Users\\DEEPAK KUMAR\\Anaconda3\\lib\\site-packages\\sklearn\\preprocessing\\data.py:645: DataConversionWarning: Data with input dtype int64, float64 were all converted to float64 by StandardScaler.\n",
      "  return self.partial_fit(X, y)\n",
      "C:\\Users\\DEEPAK KUMAR\\Anaconda3\\lib\\site-packages\\sklearn\\base.py:464: DataConversionWarning: Data with input dtype int64, float64 were all converted to float64 by StandardScaler.\n",
      "  return self.fit(X, **fit_params).transform(X)\n"
     ]
    }
   ],
   "source": [
    "from sklearn.preprocessing import StandardScaler, OneHotEncoder\n",
    "\n",
    "\n",
    "\n",
    "# Define which columns should be encoded vs scaled\n",
    "columns_to_encode = [ 'Gender', 'Married', 'Occupation',\n",
    "       'Mode_transport', 'comorbidity'\n",
    "    , 'Pulmonary score', 'cardiological pressure']\n",
    "columns_to_scale  = ['Diuresis',\n",
    "       'Platelets', 'HBB', 'd-dimer', 'Heart rate', 'HDL cholesterol',\n",
    "       'Charlson Index', 'Blood Glucose', 'FT/month','Children','cases/1M', 'Deaths/1M','Age','Coma score']\n",
    "\n",
    "# Instantiate encoder/scaler\n",
    "scaler_x = StandardScaler()\n",
    "scaler_y = StandardScaler()\n",
    "ohe    = OneHotEncoder(sparse=False)\n",
    "\n",
    "# Scale and Encode Separate Columns\n",
    "scaled_columns  = scaler_x.fit_transform(df2[columns_to_scale]) \n",
    "encoded_columns =    ohe.fit_transform(df2[columns_to_encode])\n",
    "# scaled_target=scaler_y.fit_transform(df3) \n",
    "\n",
    "# Concatenate (Column-Bind) Processed Columns Back Together\n",
    "processed_data = np.concatenate([scaled_columns, encoded_columns], axis=1)"
   ]
  },
  {
   "cell_type": "code",
   "execution_count": 20,
   "metadata": {},
   "outputs": [
    {
     "data": {
      "text/plain": [
       "42"
      ]
     },
     "execution_count": 20,
     "metadata": {},
     "output_type": "execute_result"
    }
   ],
   "source": [
    "len(processed_data[0])"
   ]
  },
  {
   "cell_type": "code",
   "execution_count": 21,
   "metadata": {},
   "outputs": [],
   "source": [
    "scaled_target=scaler_y.fit_transform(df4.reshape(-1, 1))"
   ]
  },
  {
   "cell_type": "code",
   "execution_count": 22,
   "metadata": {},
   "outputs": [
    {
     "data": {
      "text/plain": [
       "array([[-0.29469935],\n",
       "       [-0.10612538],\n",
       "       [ 1.96205619],\n",
       "       ...,\n",
       "       [-0.42833751],\n",
       "       [ 0.14267007],\n",
       "       [ 1.50472785]])"
      ]
     },
     "execution_count": 22,
     "metadata": {},
     "output_type": "execute_result"
    }
   ],
   "source": [
    "scaled_target"
   ]
  },
  {
   "cell_type": "code",
   "execution_count": 23,
   "metadata": {},
   "outputs": [],
   "source": [
    "import xgboost as xgb\n",
    "from xgboost import plot_importance, plot_tree\n",
    "from sklearn.metrics import mean_squared_error, mean_absolute_error"
   ]
  },
  {
   "cell_type": "code",
   "execution_count": 24,
   "metadata": {},
   "outputs": [],
   "source": [
    "reg = xgb.XGBRegressor(n_estimators=2000)"
   ]
  },
  {
   "cell_type": "code",
   "execution_count": 25,
   "metadata": {
    "scrolled": true
   },
   "outputs": [
    {
     "name": "stdout",
     "output_type": "stream",
     "text": [
      "[23:55:55] WARNING: src/objective/regression_obj.cu:152: reg:linear is now deprecated in favor of reg:squarederror.\n",
      "[23:56:09] WARNING: src/objective/regression_obj.cu:152: reg:linear is now deprecated in favor of reg:squarederror.\n",
      "[23:56:23] WARNING: src/objective/regression_obj.cu:152: reg:linear is now deprecated in favor of reg:squarederror.\n",
      "[23:56:35] WARNING: src/objective/regression_obj.cu:152: reg:linear is now deprecated in favor of reg:squarederror.\n",
      "[23:56:47] WARNING: src/objective/regression_obj.cu:152: reg:linear is now deprecated in favor of reg:squarederror.\n",
      "[23:57:00] WARNING: src/objective/regression_obj.cu:152: reg:linear is now deprecated in favor of reg:squarederror.\n",
      "[23:57:12] WARNING: src/objective/regression_obj.cu:152: reg:linear is now deprecated in favor of reg:squarederror.\n",
      "[23:57:24] WARNING: src/objective/regression_obj.cu:152: reg:linear is now deprecated in favor of reg:squarederror.\n",
      "[23:57:36] WARNING: src/objective/regression_obj.cu:152: reg:linear is now deprecated in favor of reg:squarederror.\n",
      "[23:57:48] WARNING: src/objective/regression_obj.cu:152: reg:linear is now deprecated in favor of reg:squarederror.\n"
     ]
    }
   ],
   "source": [
    "\n",
    "from sklearn.model_selection import cross_val_score\n",
    "score=cross_val_score(reg,processed_data,scaled_target,cv=10)"
   ]
  },
  {
   "cell_type": "code",
   "execution_count": 26,
   "metadata": {},
   "outputs": [
    {
     "data": {
      "text/plain": [
       "0.13279632420402782"
      ]
     },
     "execution_count": 26,
     "metadata": {},
     "output_type": "execute_result"
    }
   ],
   "source": [
    "score.mean()"
   ]
  },
  {
   "cell_type": "code",
   "execution_count": 27,
   "metadata": {},
   "outputs": [
    {
     "name": "stdout",
     "output_type": "stream",
     "text": [
      "[23:58:00] WARNING: src/objective/regression_obj.cu:152: reg:linear is now deprecated in favor of reg:squarederror.\n"
     ]
    },
    {
     "data": {
      "text/plain": [
       "XGBRegressor(base_score=0.5, booster='gbtree', colsample_bylevel=1,\n",
       "       colsample_bynode=1, colsample_bytree=1, gamma=0,\n",
       "       importance_type='gain', learning_rate=0.1, max_delta_step=0,\n",
       "       max_depth=3, min_child_weight=1, missing=None, n_estimators=2000,\n",
       "       n_jobs=1, nthread=None, objective='reg:linear', random_state=0,\n",
       "       reg_alpha=0, reg_lambda=1, scale_pos_weight=1, seed=None,\n",
       "       silent=None, subsample=1, verbosity=1)"
      ]
     },
     "execution_count": 27,
     "metadata": {},
     "output_type": "execute_result"
    }
   ],
   "source": [
    "reg.fit(processed_data,scaled_target,verbose=True)"
   ]
  },
  {
   "cell_type": "code",
   "execution_count": 28,
   "metadata": {},
   "outputs": [],
   "source": [
    "fd=pd.read_excel('Test_dataset.xlsx',index_col='people_ID')"
   ]
  },
  {
   "cell_type": "code",
   "execution_count": 29,
   "metadata": {},
   "outputs": [
    {
     "data": {
      "text/html": [
       "<div>\n",
       "<style scoped>\n",
       "    .dataframe tbody tr th:only-of-type {\n",
       "        vertical-align: middle;\n",
       "    }\n",
       "\n",
       "    .dataframe tbody tr th {\n",
       "        vertical-align: top;\n",
       "    }\n",
       "\n",
       "    .dataframe thead th {\n",
       "        text-align: right;\n",
       "    }\n",
       "</style>\n",
       "<table border=\"1\" class=\"dataframe\">\n",
       "  <thead>\n",
       "    <tr style=\"text-align: right;\">\n",
       "      <th></th>\n",
       "      <th>Region</th>\n",
       "      <th>Gender</th>\n",
       "      <th>Designation</th>\n",
       "      <th>Name</th>\n",
       "      <th>Married</th>\n",
       "      <th>Children</th>\n",
       "      <th>Occupation</th>\n",
       "      <th>Mode_transport</th>\n",
       "      <th>cases/1M</th>\n",
       "      <th>Deaths/1M</th>\n",
       "      <th>...</th>\n",
       "      <th>Platelets</th>\n",
       "      <th>HBB</th>\n",
       "      <th>d-dimer</th>\n",
       "      <th>Heart rate</th>\n",
       "      <th>HDL cholesterol</th>\n",
       "      <th>Charlson Index</th>\n",
       "      <th>Blood Glucose</th>\n",
       "      <th>Insurance</th>\n",
       "      <th>salary</th>\n",
       "      <th>FT/month</th>\n",
       "    </tr>\n",
       "    <tr>\n",
       "      <th>people_ID</th>\n",
       "      <th></th>\n",
       "      <th></th>\n",
       "      <th></th>\n",
       "      <th></th>\n",
       "      <th></th>\n",
       "      <th></th>\n",
       "      <th></th>\n",
       "      <th></th>\n",
       "      <th></th>\n",
       "      <th></th>\n",
       "      <th></th>\n",
       "      <th></th>\n",
       "      <th></th>\n",
       "      <th></th>\n",
       "      <th></th>\n",
       "      <th></th>\n",
       "      <th></th>\n",
       "      <th></th>\n",
       "      <th></th>\n",
       "      <th></th>\n",
       "      <th></th>\n",
       "    </tr>\n",
       "  </thead>\n",
       "  <tbody>\n",
       "    <tr>\n",
       "      <th>5942</th>\n",
       "      <td>Delhi</td>\n",
       "      <td>Female</td>\n",
       "      <td>Mrs</td>\n",
       "      <td>smt rekha prajapat</td>\n",
       "      <td>YES</td>\n",
       "      <td>2</td>\n",
       "      <td>Driver</td>\n",
       "      <td>Public</td>\n",
       "      <td>4</td>\n",
       "      <td>1</td>\n",
       "      <td>...</td>\n",
       "      <td>153</td>\n",
       "      <td>196</td>\n",
       "      <td>240</td>\n",
       "      <td>85</td>\n",
       "      <td>53</td>\n",
       "      <td>17</td>\n",
       "      <td>3</td>\n",
       "      <td>3900000</td>\n",
       "      <td>1300000</td>\n",
       "      <td>1</td>\n",
       "    </tr>\n",
       "    <tr>\n",
       "      <th>18664</th>\n",
       "      <td>Delhi</td>\n",
       "      <td>Male</td>\n",
       "      <td>Mr</td>\n",
       "      <td>nirmal</td>\n",
       "      <td>YES</td>\n",
       "      <td>2</td>\n",
       "      <td>Legal</td>\n",
       "      <td>Walk</td>\n",
       "      <td>4</td>\n",
       "      <td>1</td>\n",
       "      <td>...</td>\n",
       "      <td>95</td>\n",
       "      <td>138</td>\n",
       "      <td>241</td>\n",
       "      <td>81</td>\n",
       "      <td>61</td>\n",
       "      <td>2</td>\n",
       "      <td>5</td>\n",
       "      <td>1800000</td>\n",
       "      <td>1300000</td>\n",
       "      <td>1</td>\n",
       "    </tr>\n",
       "    <tr>\n",
       "      <th>5603</th>\n",
       "      <td>Delhi</td>\n",
       "      <td>Female</td>\n",
       "      <td>Mrs</td>\n",
       "      <td>pinky</td>\n",
       "      <td>YES</td>\n",
       "      <td>2</td>\n",
       "      <td>Sales</td>\n",
       "      <td>Car</td>\n",
       "      <td>4</td>\n",
       "      <td>1</td>\n",
       "      <td>...</td>\n",
       "      <td>40</td>\n",
       "      <td>166</td>\n",
       "      <td>236</td>\n",
       "      <td>88</td>\n",
       "      <td>47</td>\n",
       "      <td>24</td>\n",
       "      <td>3</td>\n",
       "      <td>5000000</td>\n",
       "      <td>2000000</td>\n",
       "      <td>2</td>\n",
       "    </tr>\n",
       "    <tr>\n",
       "      <th>5649</th>\n",
       "      <td>Delhi</td>\n",
       "      <td>Female</td>\n",
       "      <td>Mrs</td>\n",
       "      <td>pooja @aafrin</td>\n",
       "      <td>YES</td>\n",
       "      <td>2</td>\n",
       "      <td>Sales</td>\n",
       "      <td>Car</td>\n",
       "      <td>4</td>\n",
       "      <td>1</td>\n",
       "      <td>...</td>\n",
       "      <td>78</td>\n",
       "      <td>83</td>\n",
       "      <td>211</td>\n",
       "      <td>87</td>\n",
       "      <td>52</td>\n",
       "      <td>13</td>\n",
       "      <td>6</td>\n",
       "      <td>3100000</td>\n",
       "      <td>600000</td>\n",
       "      <td>2</td>\n",
       "    </tr>\n",
       "    <tr>\n",
       "      <th>5099</th>\n",
       "      <td>Delhi</td>\n",
       "      <td>Female</td>\n",
       "      <td>Mrs</td>\n",
       "      <td>anjali</td>\n",
       "      <td>YES</td>\n",
       "      <td>2</td>\n",
       "      <td>Business</td>\n",
       "      <td>Car</td>\n",
       "      <td>4</td>\n",
       "      <td>1</td>\n",
       "      <td>...</td>\n",
       "      <td>109</td>\n",
       "      <td>207</td>\n",
       "      <td>312</td>\n",
       "      <td>94</td>\n",
       "      <td>68</td>\n",
       "      <td>39</td>\n",
       "      <td>5</td>\n",
       "      <td>2300000</td>\n",
       "      <td>1500000</td>\n",
       "      <td>1</td>\n",
       "    </tr>\n",
       "  </tbody>\n",
       "</table>\n",
       "<p>5 rows × 26 columns</p>\n",
       "</div>"
      ],
      "text/plain": [
       "          Region  Gender Designation                Name Married  Children  \\\n",
       "people_ID                                                                    \n",
       "5942       Delhi  Female         Mrs  smt rekha prajapat     YES         2   \n",
       "18664      Delhi    Male          Mr              nirmal     YES         2   \n",
       "5603       Delhi  Female         Mrs               pinky     YES         2   \n",
       "5649       Delhi  Female         Mrs       pooja @aafrin     YES         2   \n",
       "5099       Delhi  Female         Mrs              anjali     YES         2   \n",
       "\n",
       "          Occupation Mode_transport  cases/1M  Deaths/1M  ... Platelets  HBB  \\\n",
       "people_ID                                                 ...                  \n",
       "5942          Driver         Public         4          1  ...       153  196   \n",
       "18664          Legal           Walk         4          1  ...        95  138   \n",
       "5603           Sales            Car         4          1  ...        40  166   \n",
       "5649           Sales            Car         4          1  ...        78   83   \n",
       "5099        Business            Car         4          1  ...       109  207   \n",
       "\n",
       "           d-dimer Heart rate HDL cholesterol  Charlson Index  Blood Glucose  \\\n",
       "people_ID                                                                      \n",
       "5942           240         85              53              17              3   \n",
       "18664          241         81              61               2              5   \n",
       "5603           236         88              47              24              3   \n",
       "5649           211         87              52              13              6   \n",
       "5099           312         94              68              39              5   \n",
       "\n",
       "           Insurance   salary  FT/month  \n",
       "people_ID                                \n",
       "5942         3900000  1300000         1  \n",
       "18664        1800000  1300000         1  \n",
       "5603         5000000  2000000         2  \n",
       "5649         3100000   600000         2  \n",
       "5099         2300000  1500000         1  \n",
       "\n",
       "[5 rows x 26 columns]"
      ]
     },
     "execution_count": 29,
     "metadata": {},
     "output_type": "execute_result"
    }
   ],
   "source": [
    "fd.head()"
   ]
  },
  {
   "cell_type": "code",
   "execution_count": 30,
   "metadata": {},
   "outputs": [],
   "source": [
    "cols=['Designation','Name','Insurance','salary','Region']"
   ]
  },
  {
   "cell_type": "code",
   "execution_count": 31,
   "metadata": {},
   "outputs": [],
   "source": [
    "fd1=fd.drop(fd[cols],axis=1)"
   ]
  },
  {
   "cell_type": "code",
   "execution_count": 32,
   "metadata": {},
   "outputs": [
    {
     "data": {
      "text/plain": [
       "(14498, 21)"
      ]
     },
     "execution_count": 32,
     "metadata": {},
     "output_type": "execute_result"
    }
   ],
   "source": [
    "fd1.shape"
   ]
  },
  {
   "cell_type": "code",
   "execution_count": 33,
   "metadata": {},
   "outputs": [
    {
     "name": "stderr",
     "output_type": "stream",
     "text": [
      "C:\\Users\\DEEPAK KUMAR\\Anaconda3\\lib\\site-packages\\sklearn\\preprocessing\\data.py:645: DataConversionWarning: Data with input dtype int64 were all converted to float64 by StandardScaler.\n",
      "  return self.partial_fit(X, y)\n",
      "C:\\Users\\DEEPAK KUMAR\\Anaconda3\\lib\\site-packages\\sklearn\\base.py:464: DataConversionWarning: Data with input dtype int64 were all converted to float64 by StandardScaler.\n",
      "  return self.fit(X, **fit_params).transform(X)\n"
     ]
    }
   ],
   "source": [
    "from sklearn.preprocessing import StandardScaler, OneHotEncoder\n",
    "\n",
    "\n",
    "\n",
    "# Define which columns should be encoded vs scaled\n",
    "columns_to_encode = ['Gender', 'Married', 'Occupation',\n",
    "       'Mode_transport', 'comorbidity'\n",
    "    , 'Pulmonary score', 'cardiological pressure']\n",
    "columns_to_scale  = ['Diuresis',\n",
    "       'Platelets', 'HBB', 'd-dimer', 'Heart rate', 'HDL cholesterol',\n",
    "       'Charlson Index', 'Blood Glucose', 'FT/month','Children','cases/1M', 'Deaths/1M','Age','Coma score']\n",
    "\n",
    "# Instantiate encoder/scaler\n",
    "scaler_x = StandardScaler()\n",
    "scaler_y = StandardScaler()\n",
    "ohe    = OneHotEncoder(sparse=False)\n",
    "\n",
    "# Scale and Encode Separate Columns\n",
    "scaled_columns  = scaler_x.fit_transform(fd1[columns_to_scale]) \n",
    "encoded_columns =    ohe.fit_transform(fd1[columns_to_encode])\n",
    "# scaled_target=scaler_y.fit_transform(df3) \n",
    "\n",
    "# Concatenate (Column-Bind) Processed Columns Back Together\n",
    "processed_data_test = np.concatenate([scaled_columns, encoded_columns], axis=1)"
   ]
  },
  {
   "cell_type": "code",
   "execution_count": 34,
   "metadata": {},
   "outputs": [
    {
     "data": {
      "text/plain": [
       "42"
      ]
     },
     "execution_count": 34,
     "metadata": {},
     "output_type": "execute_result"
    }
   ],
   "source": [
    "len(processed_data_test[0])"
   ]
  },
  {
   "cell_type": "code",
   "execution_count": 35,
   "metadata": {},
   "outputs": [
    {
     "data": {
      "text/plain": [
       "Pune                  2503\n",
       "Thiruvananthapuram    2502\n",
       "Kolkata               2483\n",
       "Mumbai                2475\n",
       "Hyderabad             2457\n",
       "Delhi                 2078\n",
       "Name: Region, dtype: int64"
      ]
     },
     "execution_count": 35,
     "metadata": {},
     "output_type": "execute_result"
    }
   ],
   "source": [
    "fd['Region'].value_counts()"
   ]
  },
  {
   "cell_type": "code",
   "execution_count": 36,
   "metadata": {},
   "outputs": [
    {
     "data": {
      "text/plain": [
       "Legal            1174\n",
       "Sales            1131\n",
       "Manufacturing    1120\n",
       "Researcher       1115\n",
       "Farmer           1113\n",
       "Cleaner          1111\n",
       "Clerk            1078\n",
       "Driver           1072\n",
       "Business         1053\n",
       "Name: Occupation, dtype: int64"
      ]
     },
     "execution_count": 36,
     "metadata": {},
     "output_type": "execute_result"
    }
   ],
   "source": [
    "df['Occupation'].value_counts()"
   ]
  },
  {
   "cell_type": "code",
   "execution_count": 37,
   "metadata": {},
   "outputs": [
    {
     "data": {
      "text/plain": [
       "Public    3588\n",
       "Walk      3568\n",
       "Car       3555\n",
       "Name: Mode_transport, dtype: int64"
      ]
     },
     "execution_count": 37,
     "metadata": {},
     "output_type": "execute_result"
    }
   ],
   "source": [
    "df['Mode_transport'].value_counts()"
   ]
  },
  {
   "cell_type": "code",
   "execution_count": 38,
   "metadata": {},
   "outputs": [
    {
     "data": {
      "text/plain": [
       "Hypertension              2642\n",
       "None                      2637\n",
       "Diabetes                  2614\n",
       "Coronary Heart Disease    2595\n",
       "Name: comorbidity, dtype: int64"
      ]
     },
     "execution_count": 38,
     "metadata": {},
     "output_type": "execute_result"
    }
   ],
   "source": [
    "df['comorbidity'].value_counts()"
   ]
  },
  {
   "cell_type": "code",
   "execution_count": 39,
   "metadata": {},
   "outputs": [
    {
     "data": {
      "text/plain": [
       "Normal      2681\n",
       "Stage-01    2657\n",
       "Elevated    2641\n",
       "Stage-02    2638\n",
       "Name: cardiological pressure, dtype: int64"
      ]
     },
     "execution_count": 39,
     "metadata": {},
     "output_type": "execute_result"
    }
   ],
   "source": [
    "df['cardiological pressure'].value_counts()"
   ]
  },
  {
   "cell_type": "code",
   "execution_count": 40,
   "metadata": {},
   "outputs": [],
   "source": [
    "pred = reg.predict(processed_data_test)"
   ]
  },
  {
   "cell_type": "code",
   "execution_count": 41,
   "metadata": {},
   "outputs": [
    {
     "data": {
      "text/plain": [
       "array([-0.1566124 , -0.26355302, -0.18523383, ..., -0.912431  ,\n",
       "       -0.75819445, -0.6433625 ], dtype=float32)"
      ]
     },
     "execution_count": 41,
     "metadata": {},
     "output_type": "execute_result"
    }
   ],
   "source": [
    "pred"
   ]
  },
  {
   "cell_type": "code",
   "execution_count": 42,
   "metadata": {},
   "outputs": [],
   "source": [
    "scaler_y = StandardScaler()\n",
    "scaled_target=scaler_y.fit_transform(df4.reshape(-1, 1))\n",
    "\n",
    "inversed = scaler_y.inverse_transform(pred.reshape(-1,1))\n"
   ]
  },
  {
   "cell_type": "code",
   "execution_count": 43,
   "metadata": {},
   "outputs": [
    {
     "data": {
      "text/plain": [
       "array([[50.608974],\n",
       "       [49.467472],\n",
       "       [50.303463],\n",
       "       ...,\n",
       "       [42.541237],\n",
       "       [44.187584],\n",
       "       [45.41332 ]], dtype=float32)"
      ]
     },
     "execution_count": 43,
     "metadata": {},
     "output_type": "execute_result"
    }
   ],
   "source": [
    "inversed"
   ]
  },
  {
   "cell_type": "code",
   "execution_count": 44,
   "metadata": {},
   "outputs": [],
   "source": [
    "t=pd.DataFrame(inversed)"
   ]
  },
  {
   "cell_type": "code",
   "execution_count": 45,
   "metadata": {},
   "outputs": [
    {
     "data": {
      "text/plain": [
       "0    52.687057\n",
       "dtype: float32"
      ]
     },
     "execution_count": 45,
     "metadata": {},
     "output_type": "execute_result"
    }
   ],
   "source": [
    "t.mean()"
   ]
  },
  {
   "cell_type": "code",
   "execution_count": 46,
   "metadata": {},
   "outputs": [
    {
     "data": {
      "text/plain": [
       "0    25.950987\n",
       "dtype: float32"
      ]
     },
     "execution_count": 46,
     "metadata": {},
     "output_type": "execute_result"
    }
   ],
   "source": [
    "t.min()"
   ]
  },
  {
   "cell_type": "code",
   "execution_count": 47,
   "metadata": {},
   "outputs": [
    {
     "data": {
      "text/plain": [
       "0    92.176025\n",
       "dtype: float32"
      ]
     },
     "execution_count": 47,
     "metadata": {},
     "output_type": "execute_result"
    }
   ],
   "source": [
    "t.max()"
   ]
  },
  {
   "cell_type": "code",
   "execution_count": 48,
   "metadata": {},
   "outputs": [],
   "source": [
    "flipr=t.to_csv(r'C:\\Users\\DEEPAK KUMAR\\Desktop\\flipr.csv')"
   ]
  },
  {
   "cell_type": "code",
   "execution_count": null,
   "metadata": {},
   "outputs": [],
   "source": []
  }
 ],
 "metadata": {
  "kernelspec": {
   "display_name": "Python 3",
   "language": "python",
   "name": "python3"
  },
  "language_info": {
   "codemirror_mode": {
    "name": "ipython",
    "version": 3
   },
   "file_extension": ".py",
   "mimetype": "text/x-python",
   "name": "python",
   "nbconvert_exporter": "python",
   "pygments_lexer": "ipython3",
   "version": "3.7.3"
  }
 },
 "nbformat": 4,
 "nbformat_minor": 2
}
